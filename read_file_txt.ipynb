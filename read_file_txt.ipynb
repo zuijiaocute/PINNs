{
 "cells": [
  {
   "cell_type": "code",
   "execution_count": 1,
   "id": "58fb094b",
   "metadata": {},
   "outputs": [],
   "source": [
    "import os\n",
    "import numpy as np\n",
    "import pandas as pd"
   ]
  },
  {
   "cell_type": "code",
   "execution_count": null,
   "id": "282d03b9",
   "metadata": {},
   "outputs": [],
   "source": [
    "dir = os.listdir('/Volumes/Extreme SSD/gain_yu')"
   ]
  },
  {
   "cell_type": "code",
   "execution_count": 3,
   "id": "8bb6d471",
   "metadata": {},
   "outputs": [],
   "source": [
    "df = pd.read_csv('/Volumes/Extreme SSD/gain_yu/body-0001.txt', sep = ', ')"
   ]
  },
  {
   "cell_type": "code",
   "execution_count": 11,
   "id": "3394d34f",
   "metadata": {},
   "outputs": [
    {
     "data": {
      "text/html": [
       "<div>\n",
       "<style scoped>\n",
       "    .dataframe tbody tr th:only-of-type {\n",
       "        vertical-align: middle;\n",
       "    }\n",
       "\n",
       "    .dataframe tbody tr th {\n",
       "        vertical-align: top;\n",
       "    }\n",
       "\n",
       "    .dataframe thead th {\n",
       "        text-align: right;\n",
       "    }\n",
       "</style>\n",
       "<table border=\"1\" class=\"dataframe\">\n",
       "  <thead>\n",
       "    <tr style=\"text-align: right;\">\n",
       "      <th></th>\n",
       "      <th>nodenumber</th>\n",
       "      <th>x-coordinate</th>\n",
       "      <th>y-coordinate</th>\n",
       "      <th>z-coordinate</th>\n",
       "      <th>temperature</th>\n",
       "    </tr>\n",
       "  </thead>\n",
       "  <tbody>\n",
       "    <tr>\n",
       "      <th>0</th>\n",
       "      <td>1</td>\n",
       "      <td>0.000000</td>\n",
       "      <td>7.557143</td>\n",
       "      <td>1.333333</td>\n",
       "      <td>275.776337</td>\n",
       "    </tr>\n",
       "    <tr>\n",
       "      <th>1</th>\n",
       "      <td>2</td>\n",
       "      <td>0.329114</td>\n",
       "      <td>7.557143</td>\n",
       "      <td>1.333333</td>\n",
       "      <td>286.181641</td>\n",
       "    </tr>\n",
       "    <tr>\n",
       "      <th>2</th>\n",
       "      <td>3</td>\n",
       "      <td>0.329114</td>\n",
       "      <td>7.557143</td>\n",
       "      <td>1.000000</td>\n",
       "      <td>286.181641</td>\n",
       "    </tr>\n",
       "    <tr>\n",
       "      <th>3</th>\n",
       "      <td>4</td>\n",
       "      <td>0.000000</td>\n",
       "      <td>7.557143</td>\n",
       "      <td>1.000000</td>\n",
       "      <td>275.776337</td>\n",
       "    </tr>\n",
       "    <tr>\n",
       "      <th>4</th>\n",
       "      <td>5</td>\n",
       "      <td>0.000000</td>\n",
       "      <td>7.557143</td>\n",
       "      <td>1.666667</td>\n",
       "      <td>275.776337</td>\n",
       "    </tr>\n",
       "  </tbody>\n",
       "</table>\n",
       "</div>"
      ],
      "text/plain": [
       "   nodenumber     x-coordinate     y-coordinate     z-coordinate  \\\n",
       "0           1         0.000000         7.557143         1.333333   \n",
       "1           2         0.329114         7.557143         1.333333   \n",
       "2           3         0.329114         7.557143         1.000000   \n",
       "3           4         0.000000         7.557143         1.000000   \n",
       "4           5         0.000000         7.557143         1.666667   \n",
       "\n",
       "       temperature  \n",
       "0       275.776337  \n",
       "1       286.181641  \n",
       "2       286.181641  \n",
       "3       275.776337  \n",
       "4       275.776337  "
      ]
     },
     "execution_count": 11,
     "metadata": {},
     "output_type": "execute_result"
    }
   ],
   "source": [
    "df.head()"
   ]
  },
  {
   "cell_type": "code",
   "execution_count": 14,
   "id": "f873a43e",
   "metadata": {},
   "outputs": [
    {
     "data": {
      "text/plain": [
       "Index(['nodenumber', '   x-coordinate', '   y-coordinate', '   z-coordinate',\n",
       "       '    temperature'],\n",
       "      dtype='object')"
      ]
     },
     "execution_count": 14,
     "metadata": {},
     "output_type": "execute_result"
    }
   ],
   "source": [
    "df.columns"
   ]
  },
  {
   "cell_type": "code",
   "execution_count": 18,
   "id": "0f8a755c",
   "metadata": {},
   "outputs": [
    {
     "data": {
      "text/plain": [
       "80"
      ]
     },
     "execution_count": 18,
     "metadata": {},
     "output_type": "execute_result"
    }
   ],
   "source": [
    "len(set(df['   x-coordinate']))"
   ]
  },
  {
   "cell_type": "code",
   "execution_count": 19,
   "id": "c0aa16a2",
   "metadata": {},
   "outputs": [
    {
     "data": {
      "text/plain": [
       "141"
      ]
     },
     "execution_count": 19,
     "metadata": {},
     "output_type": "execute_result"
    }
   ],
   "source": [
    "len(set(df['   y-coordinate']))"
   ]
  },
  {
   "cell_type": "code",
   "execution_count": 17,
   "id": "51887e4e",
   "metadata": {
    "scrolled": true
   },
   "outputs": [
    {
     "data": {
      "text/plain": [
       "19"
      ]
     },
     "execution_count": 17,
     "metadata": {},
     "output_type": "execute_result"
    }
   ],
   "source": [
    "len(set(df['   z-coordinate']))"
   ]
  },
  {
   "cell_type": "code",
   "execution_count": null,
   "id": "06bf5112",
   "metadata": {},
   "outputs": [],
   "source": []
  }
 ],
 "metadata": {
  "kernelspec": {
   "display_name": "Python 3.8.10 ('py38')",
   "language": "python",
   "name": "python3810jvsc74a57bd0df491da54ca15e0f06dd47118890149f778cd8f2373f192d1eb26e2aede45a88"
  },
  "language_info": {
   "codemirror_mode": {
    "name": "ipython",
    "version": 3
   },
   "file_extension": ".py",
   "mimetype": "text/x-python",
   "name": "python",
   "nbconvert_exporter": "python",
   "pygments_lexer": "ipython3",
   "version": "3.8.12"
  }
 },
 "nbformat": 4,
 "nbformat_minor": 5
}
